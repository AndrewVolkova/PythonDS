{
 "cells": [
  {
   "cell_type": "code",
   "execution_count": 1,
   "metadata": {},
   "outputs": [],
   "source": [
    "import pandas as pd\n",
    "import numpy as np\n",
    "\n",
    "import os"
   ]
  },
  {
   "attachments": {},
   "cell_type": "markdown",
   "metadata": {},
   "source": [
    "### Создаем датасет"
   ]
  },
  {
   "cell_type": "code",
   "execution_count": 6,
   "metadata": {},
   "outputs": [],
   "source": [
    "def create_DB(size):\n",
    "  df = pd.DataFrame()\n",
    "  df['city'] = np.random.choice(['Paris','Milan','Vienna','Amsterdam','Berlin'],size)\n",
    "  df['team'] = np.random.choice(['Team A','Team B','Team C','Team D','Team E'],size)\n",
    "  df['age'] = np.random.randint(18,40,size)\n",
    "  df['win'] = np.random.choice(['yes','no'],size)\n",
    "  dates = pd.date_range('2022-01-01','2023-01-01')\n",
    "  df['date'] = np.random.choice(dates,size)\n",
    "  df['rate'] =np.random.uniform(0,1,size)\n",
    "  \n",
    "  return df \n",
    "\n",
    "\n",
    "def set_dtypes(df):\n",
    "  df.city = df.city.astype('category')\n",
    "  df.team = df.team.astype('category')\n",
    "  df.age = df.age.astype('int16')\n",
    "  df.win = df.win.map({'yes': True, 'no': False})\n",
    "  df.rate = df.rate.astype('float32')\n",
    "  return df\n",
    "  "
   ]
  },
  {
   "cell_type": "code",
   "execution_count": 16,
   "metadata": {},
   "outputs": [
    {
     "name": "stdout",
     "output_type": "stream",
     "text": [
      "CPU times: total: 7.36 s\n",
      "Wall time: 7.37 s\n",
      "CPU times: total: 1.33 s\n",
      "Wall time: 1.33 s\n"
     ]
    },
    {
     "data": {
      "text/plain": [
       "'размер файла в MB: 86.45'"
      ]
     },
     "execution_count": 16,
     "metadata": {},
     "output_type": "execute_result"
    }
   ],
   "source": [
    "a = create_DB(2000000)\n",
    "a = set_dtypes(a)\n",
    "%time a.to_csv('test_csv.csv', index=False)\n",
    "%time a = pd.read_csv('test_csv.csv')\n",
    "f\"размер файла в MB: {os.path.getsize('test_csv.csv')/1024/1024:.2f}\""
   ]
  },
  {
   "attachments": {},
   "cell_type": "markdown",
   "metadata": {},
   "source": [
    "### Parquet"
   ]
  },
  {
   "attachments": {},
   "cell_type": "markdown",
   "metadata": {},
   "source": [
    "pip install pyarrow"
   ]
  },
  {
   "cell_type": "code",
   "execution_count": null,
   "metadata": {},
   "outputs": [],
   "source": [
    "a = create_DB(2000000)\n",
    "a = set_dtypes(a)\n",
    "%time a.to_parquet('test_parquet.parquet')\n",
    "%time a = pd.read_parquet('test_parquet.parquet')\n",
    "f\"размер файла в MB: {os.path.getsize('test_parquet.parquet')/1024/1024:.2f}\""
   ]
  },
  {
   "cell_type": "code",
   "execution_count": null,
   "metadata": {},
   "outputs": [],
   "source": [
    "a.info()"
   ]
  },
  {
   "attachments": {},
   "cell_type": "markdown",
   "metadata": {},
   "source": [
    "### CSV ZIP"
   ]
  },
  {
   "cell_type": "code",
   "execution_count": null,
   "metadata": {},
   "outputs": [],
   "source": [
    "a = create_DB(2000000)\n",
    "a = set_dtypes(a)\n",
    "%time a.to_csv('test_csv.zip', index=False, compression='zip')\n",
    "%time a = pd.read_csv('test_csv.zip')\n",
    "f\"размер файла в MB: {os.path.getsize('test_csv.zip')/1024/1024:.2f}\""
   ]
  }
 ],
 "metadata": {
  "kernelspec": {
   "display_name": "Python 3",
   "language": "python",
   "name": "python3"
  },
  "language_info": {
   "codemirror_mode": {
    "name": "ipython",
    "version": 3
   },
   "file_extension": ".py",
   "mimetype": "text/x-python",
   "name": "python",
   "nbconvert_exporter": "python",
   "pygments_lexer": "ipython3",
   "version": "3.11.0"
  },
  "orig_nbformat": 4
 },
 "nbformat": 4,
 "nbformat_minor": 2
}
