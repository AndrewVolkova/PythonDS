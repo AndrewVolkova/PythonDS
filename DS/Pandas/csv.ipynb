{
 "cells": [
  {
   "cell_type": "code",
   "execution_count": 1,
   "metadata": {},
   "outputs": [],
   "source": [
    "import pandas as pd\n",
    "import numpy as np\n",
    "\n",
    "import os"
   ]
  },
  {
   "attachments": {},
   "cell_type": "markdown",
   "metadata": {},
   "source": [
    "### Создаем датасет"
   ]
  },
  {
   "cell_type": "code",
   "execution_count": 6,
   "metadata": {},
   "outputs": [],
   "source": [
    "def create_DB(size):\n",
    "  df = pd.DataFrame()\n",
    "  df['city'] = np.random.choice(['Paris','Milan','Vienna','Amsterdam','Berlin'],size)\n",
    "  df['team'] = np.random.choice(['Team A','Team B','Team C','Team D','Team E'],size)\n",
    "  df['age'] = np.random.randint(18,40,size)\n",
    "  df['win'] = np.random.choice(['yes','no'],size)\n",
    "  dates = pd.date_range('2022-01-01','2023-01-01')\n",
    "  df['date'] = np.random.choice(dates,size)\n",
    "  df['rate'] =np.random.uniform(0,1,size)\n",
    "  \n",
    "  return df \n",
    "\n",
    "\n",
    "def set_dtypes(df):\n",
    "  df.city = df.city.astype('category')\n",
    "  df.team = df.team.astype('category')\n",
    "  df.age = df.age.astype('int16')\n",
    "  df.win = df.win.map({'yes': True, 'no': False})\n",
    "  df.rate = df.rate.astype('float32')\n",
    "  return df\n",
    "  "
   ]
  },
  {
   "cell_type": "code",
   "execution_count": 10,
   "metadata": {},
   "outputs": [
    {
     "name": "stdout",
     "output_type": "stream",
     "text": [
      "CPU times: total: 7.66 s\n",
      "Wall time: 7.65 s\n",
      "CPU times: total: 1.36 s\n",
      "Wall time: 1.36 s\n"
     ]
    },
    {
     "data": {
      "text/plain": [
       "'размер файла в MB: 86.46'"
      ]
     },
     "execution_count": 10,
     "metadata": {},
     "output_type": "execute_result"
    }
   ],
   "source": [
    "a = create_DB(2000000)\n",
    "a = set_dtypes(a)\n",
    "%time a.to_csv('test_csv.csv', index=False)\n",
    "%time a = pd.read_csv('test_csv.csv')\n",
    "f\"размер файла в MB: {os.path.getsize('test_csv.csv')/1024/1024:.2f}\""
   ]
  },
  {
   "attachments": {},
   "cell_type": "markdown",
   "metadata": {},
   "source": [
    "### Parquet"
   ]
  },
  {
   "attachments": {},
   "cell_type": "markdown",
   "metadata": {},
   "source": [
    "pip install pyarrow"
   ]
  },
  {
   "cell_type": "code",
   "execution_count": 12,
   "metadata": {},
   "outputs": [
    {
     "name": "stdout",
     "output_type": "stream",
     "text": [
      "CPU times: total: 312 ms\n",
      "Wall time: 310 ms\n",
      "CPU times: total: 156 ms\n",
      "Wall time: 66 ms\n"
     ]
    },
    {
     "data": {
      "text/plain": [
       "'размер файла в MB: 13.25'"
      ]
     },
     "execution_count": 12,
     "metadata": {},
     "output_type": "execute_result"
    }
   ],
   "source": [
    "a = create_DB(2000000)\n",
    "a = set_dtypes(a)\n",
    "%time a.to_parquet('test_parquet.parquet')\n",
    "%time a = pd.read_parquet('test_parquet.parquet')\n",
    "f\"размер файла в MB: {os.path.getsize('test_parquet.parquet')/1024/1024:.2f}\""
   ]
  },
  {
   "cell_type": "code",
   "execution_count": 13,
   "metadata": {},
   "outputs": [
    {
     "name": "stdout",
     "output_type": "stream",
     "text": [
      "<class 'pandas.core.frame.DataFrame'>\n",
      "RangeIndex: 2000000 entries, 0 to 1999999\n",
      "Data columns (total 6 columns):\n",
      " #   Column  Dtype         \n",
      "---  ------  -----         \n",
      " 0   city    category      \n",
      " 1   team    category      \n",
      " 2   age     int16         \n",
      " 3   win     bool          \n",
      " 4   date    datetime64[ns]\n",
      " 5   rate    float32       \n",
      "dtypes: bool(1), category(2), datetime64[ns](1), float32(1), int16(1)\n",
      "memory usage: 32.4 MB\n"
     ]
    }
   ],
   "source": [
    "a.info()"
   ]
  }
 ],
 "metadata": {
  "kernelspec": {
   "display_name": "Python 3",
   "language": "python",
   "name": "python3"
  },
  "language_info": {
   "codemirror_mode": {
    "name": "ipython",
    "version": 3
   },
   "file_extension": ".py",
   "mimetype": "text/x-python",
   "name": "python",
   "nbconvert_exporter": "python",
   "pygments_lexer": "ipython3",
   "version": "3.11.0"
  },
  "orig_nbformat": 4
 },
 "nbformat": 4,
 "nbformat_minor": 2
}
