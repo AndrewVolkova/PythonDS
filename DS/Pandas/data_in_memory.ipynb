{
 "cells": [
  {
   "cell_type": "code",
   "execution_count": 1,
   "metadata": {},
   "outputs": [],
   "source": [
    "import pandas as pd\n",
    "import numpy as np"
   ]
  },
  {
   "cell_type": "code",
   "execution_count": 2,
   "metadata": {},
   "outputs": [],
   "source": [
    "def create_DB(size):\n",
    "  df = pd.DataFrame()\n",
    "  df['city'] = np.random.choice(['Paris','Milan','Vienna','Amsterdam','Berlin'],size)\n",
    "  df['team'] = np.random.choice(['Team A','Team B','Team C','Team D','Team E'],size)\n",
    "  df['age'] = np.random.randint(18,40,size)\n",
    "  df['win'] = np.random.choice(['yes','no'],size)\n",
    "  dates = pd.date_range('2022-01-01','2023-01-01')\n",
    "  df['date'] = np.random.choice(dates,size)\n",
    "  df['rate'] =np.random.uniform(0,1,size)\n",
    "  \n",
    "  return df \n",
    "\n",
    "\n",
    "def set_dtypes(df):\n",
    "  df.city = df.city.astype('category')\n",
    "  df.team = df.team.astype('category')\n",
    "  df.age = df.age.astype('int16')\n",
    "  df.win = df.win.map({'yes': True, 'no': False})\n",
    "  df.rate = df.rate.astype('float32')\n",
    "  return df"
   ]
  },
  {
   "cell_type": "code",
   "execution_count": null,
   "metadata": {},
   "outputs": [],
   "source": [
    "a = create_DB(2_000_000)\n",
    "a.info()"
   ]
  },
  {
   "cell_type": "code",
   "execution_count": null,
   "metadata": {},
   "outputs": [],
   "source": [
    "%timeit a.age = a.age + 20"
   ]
  },
  {
   "cell_type": "code",
   "execution_count": null,
   "metadata": {},
   "outputs": [],
   "source": [
    "a = create_DB(2_000_000)\n",
    "a = set_dtypes(a)\n",
    "a.info()"
   ]
  },
  {
   "cell_type": "code",
   "execution_count": null,
   "metadata": {},
   "outputs": [],
   "source": [
    "%timeit a.age = a.age + 20"
   ]
  },
  {
   "cell_type": "code",
   "execution_count": 8,
   "metadata": {},
   "outputs": [],
   "source": [
    "a = create_DB(2_000_000)"
   ]
  },
  {
   "cell_type": "code",
   "execution_count": null,
   "metadata": {},
   "outputs": [],
   "source": [
    "%timeit a[a.city.isin(['Paris','Milan'])]"
   ]
  },
  {
   "cell_type": "code",
   "execution_count": null,
   "metadata": {},
   "outputs": [],
   "source": [
    "a = create_DB(2_000_000)\n",
    "a = set_dtypes(a)\n",
    "%timeit a[a.city.isin(['Paris','Milan'])]"
   ]
  }
 ],
 "metadata": {
  "kernelspec": {
   "display_name": "Python 3",
   "language": "python",
   "name": "python3"
  },
  "language_info": {
   "codemirror_mode": {
    "name": "ipython",
    "version": 3
   },
   "file_extension": ".py",
   "mimetype": "text/x-python",
   "name": "python",
   "nbconvert_exporter": "python",
   "pygments_lexer": "ipython3",
   "version": "3.11.0"
  },
  "orig_nbformat": 4
 },
 "nbformat": 4,
 "nbformat_minor": 2
}
